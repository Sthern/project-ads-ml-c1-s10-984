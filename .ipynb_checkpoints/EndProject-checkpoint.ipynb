{
 "cells": [
  {
   "cell_type": "code",
   "execution_count": 43,
   "metadata": {},
   "outputs": [],
   "source": [
    "import pandas as pd\n",
    "import numpy as np\n",
    "import matplotlib.pyplot as plt\n",
    "%matplotlib inline"
   ]
  },
  {
   "cell_type": "markdown",
   "metadata": {},
   "source": [
    "# Partie A Importing, cleaning and numerical summaries"
   ]
  },
  {
   "cell_type": "code",
   "execution_count": 44,
   "metadata": {},
   "outputs": [],
   "source": [
    "# 1 Download the data set data.csv from the Resources tab\n",
    "# 2 Import the data as a pandas DataFrame\n",
    "data = pd.read_csv('data.csv')"
   ]
  },
  {
   "cell_type": "code",
   "execution_count": 45,
   "metadata": {},
   "outputs": [
    {
     "data": {
      "text/plain": [
       "153"
      ]
     },
     "execution_count": 45,
     "metadata": {},
     "output_type": "execute_result"
    }
   ],
   "source": [
    "# 3 Check the number of observations.\n",
    "data.shape[0]\n",
    "# 153 entries or observations (0-152)"
   ]
  },
  {
   "cell_type": "code",
   "execution_count": 46,
   "metadata": {},
   "outputs": [
    {
     "data": {
      "text/html": [
       "<div>\n",
       "<style>\n",
       "    .dataframe thead tr:only-child th {\n",
       "        text-align: right;\n",
       "    }\n",
       "\n",
       "    .dataframe thead th {\n",
       "        text-align: left;\n",
       "    }\n",
       "\n",
       "    .dataframe tbody tr th {\n",
       "        vertical-align: top;\n",
       "    }\n",
       "</style>\n",
       "<table border=\"1\" class=\"dataframe\">\n",
       "  <thead>\n",
       "    <tr style=\"text-align: right;\">\n",
       "      <th></th>\n",
       "      <th>Country</th>\n",
       "      <th>Happiness Rank</th>\n",
       "      <th>Happiness Score</th>\n",
       "      <th>Economy</th>\n",
       "      <th>Family</th>\n",
       "      <th>Health</th>\n",
       "      <th>Freedom</th>\n",
       "      <th>Generosity</th>\n",
       "      <th>Corruption</th>\n",
       "      <th>Dystopia</th>\n",
       "      <th>Job Satisfaction</th>\n",
       "      <th>Region</th>\n",
       "    </tr>\n",
       "  </thead>\n",
       "  <tbody>\n",
       "    <tr>\n",
       "      <th>0</th>\n",
       "      <td>Norway</td>\n",
       "      <td>1</td>\n",
       "      <td>7.537</td>\n",
       "      <td>1.616463</td>\n",
       "      <td>1.533524</td>\n",
       "      <td>0.796667</td>\n",
       "      <td>0.635423</td>\n",
       "      <td>0.362012</td>\n",
       "      <td>0.315964</td>\n",
       "      <td>2.277027</td>\n",
       "      <td>94.6</td>\n",
       "      <td>Western Europe</td>\n",
       "    </tr>\n",
       "    <tr>\n",
       "      <th>1</th>\n",
       "      <td>Denmark</td>\n",
       "      <td>2</td>\n",
       "      <td>7.522</td>\n",
       "      <td>1.482383</td>\n",
       "      <td>1.551122</td>\n",
       "      <td>0.792566</td>\n",
       "      <td>0.626007</td>\n",
       "      <td>0.355280</td>\n",
       "      <td>0.400770</td>\n",
       "      <td>2.313707</td>\n",
       "      <td>93.5</td>\n",
       "      <td>Western Europe</td>\n",
       "    </tr>\n",
       "    <tr>\n",
       "      <th>2</th>\n",
       "      <td>Iceland</td>\n",
       "      <td>3</td>\n",
       "      <td>7.504</td>\n",
       "      <td>1.480633</td>\n",
       "      <td>1.610574</td>\n",
       "      <td>0.833552</td>\n",
       "      <td>0.627163</td>\n",
       "      <td>0.475540</td>\n",
       "      <td>0.153527</td>\n",
       "      <td>2.322715</td>\n",
       "      <td>94.5</td>\n",
       "      <td>Western Europe</td>\n",
       "    </tr>\n",
       "    <tr>\n",
       "      <th>3</th>\n",
       "      <td>Switzerland</td>\n",
       "      <td>4</td>\n",
       "      <td>7.494</td>\n",
       "      <td>1.564980</td>\n",
       "      <td>1.516912</td>\n",
       "      <td>0.858131</td>\n",
       "      <td>0.620071</td>\n",
       "      <td>0.290549</td>\n",
       "      <td>0.367007</td>\n",
       "      <td>2.276716</td>\n",
       "      <td>93.7</td>\n",
       "      <td>Western Europe</td>\n",
       "    </tr>\n",
       "    <tr>\n",
       "      <th>4</th>\n",
       "      <td>Finland</td>\n",
       "      <td>5</td>\n",
       "      <td>7.469</td>\n",
       "      <td>1.443572</td>\n",
       "      <td>1.540247</td>\n",
       "      <td>0.809158</td>\n",
       "      <td>0.617951</td>\n",
       "      <td>0.245483</td>\n",
       "      <td>0.382612</td>\n",
       "      <td>2.430182</td>\n",
       "      <td>91.2</td>\n",
       "      <td>Western Europe</td>\n",
       "    </tr>\n",
       "  </tbody>\n",
       "</table>\n",
       "</div>"
      ],
      "text/plain": [
       "       Country  Happiness Rank  Happiness Score   Economy    Family    Health  \\\n",
       "0       Norway               1            7.537  1.616463  1.533524  0.796667   \n",
       "1      Denmark               2            7.522  1.482383  1.551122  0.792566   \n",
       "2      Iceland               3            7.504  1.480633  1.610574  0.833552   \n",
       "3  Switzerland               4            7.494  1.564980  1.516912  0.858131   \n",
       "4      Finland               5            7.469  1.443572  1.540247  0.809158   \n",
       "\n",
       "    Freedom  Generosity  Corruption  Dystopia  Job Satisfaction  \\\n",
       "0  0.635423    0.362012    0.315964  2.277027              94.6   \n",
       "1  0.626007    0.355280    0.400770  2.313707              93.5   \n",
       "2  0.627163    0.475540    0.153527  2.322715              94.5   \n",
       "3  0.620071    0.290549    0.367007  2.276716              93.7   \n",
       "4  0.617951    0.245483    0.382612  2.430182              91.2   \n",
       "\n",
       "           Region  \n",
       "0  Western Europe  \n",
       "1  Western Europe  \n",
       "2  Western Europe  \n",
       "3  Western Europe  \n",
       "4  Western Europe  "
      ]
     },
     "execution_count": 46,
     "metadata": {},
     "output_type": "execute_result"
    }
   ],
   "source": [
    "# 4 Obtain the column headings\n",
    "data.head()"
   ]
  },
  {
   "cell_type": "code",
   "execution_count": 47,
   "metadata": {},
   "outputs": [
    {
     "data": {
      "text/plain": [
       "Country              object\n",
       "Happiness Rank        int64\n",
       "Happiness Score     float64\n",
       "Economy             float64\n",
       "Family              float64\n",
       "Health              float64\n",
       "Freedom             float64\n",
       "Generosity          float64\n",
       "Corruption          float64\n",
       "Dystopia            float64\n",
       "Job Satisfaction    float64\n",
       "Region               object\n",
       "dtype: object"
      ]
     },
     "execution_count": 47,
     "metadata": {},
     "output_type": "execute_result"
    }
   ],
   "source": [
    "# 5 Check the data type for each column\n",
    "data.dtypes"
   ]
  },
  {
   "cell_type": "code",
   "execution_count": 48,
   "metadata": {},
   "outputs": [
    {
     "name": "stdout",
     "output_type": "stream",
     "text": [
      "<class 'pandas.core.frame.DataFrame'>\n",
      "RangeIndex: 153 entries, 0 to 152\n",
      "Data columns (total 12 columns):\n",
      "Country             153 non-null object\n",
      "Happiness Rank      153 non-null int64\n",
      "Happiness Score     153 non-null float64\n",
      "Economy             153 non-null float64\n",
      "Family              153 non-null float64\n",
      "Health              153 non-null float64\n",
      "Freedom             153 non-null float64\n",
      "Generosity          153 non-null float64\n",
      "Corruption          153 non-null float64\n",
      "Dystopia            153 non-null float64\n",
      "Job Satisfaction    151 non-null float64\n",
      "Region              153 non-null object\n",
      "dtypes: float64(9), int64(1), object(2)\n",
      "memory usage: 14.4+ KB\n"
     ]
    }
   ],
   "source": [
    "# 6 Check if there are any missing values\n",
    "data.info()\n",
    "# Job Satisfaction : 2 missing values"
   ]
  },
  {
   "cell_type": "code",
   "execution_count": 49,
   "metadata": {},
   "outputs": [
    {
     "name": "stdout",
     "output_type": "stream",
     "text": [
      "<class 'pandas.core.frame.DataFrame'>\n",
      "Int64Index: 151 entries, 0 to 152\n",
      "Data columns (total 12 columns):\n",
      "Country             151 non-null object\n",
      "Happiness Rank      151 non-null int64\n",
      "Happiness Score     151 non-null float64\n",
      "Economy             151 non-null float64\n",
      "Family              151 non-null float64\n",
      "Health              151 non-null float64\n",
      "Freedom             151 non-null float64\n",
      "Generosity          151 non-null float64\n",
      "Corruption          151 non-null float64\n",
      "Dystopia            151 non-null float64\n",
      "Job Satisfaction    151 non-null float64\n",
      "Region              151 non-null object\n",
      "dtypes: float64(9), int64(1), object(2)\n",
      "memory usage: 15.3+ KB\n"
     ]
    }
   ],
   "source": [
    "# 7 If necessary remove any observations to ensure that there \n",
    "# are no missing values and the values in each column are of the same data type.\n",
    "data.dropna(inplace = True)\n",
    "data.info()"
   ]
  },
  {
   "cell_type": "code",
   "execution_count": 50,
   "metadata": {
    "scrolled": true
   },
   "outputs": [
    {
     "data": {
      "text/plain": [
       "Happiness Rank      77.827815\n",
       "Happiness Score      5.357874\n",
       "Economy              0.983895\n",
       "Family               1.190509\n",
       "Health               0.550794\n",
       "Freedom              0.409805\n",
       "Generosity           0.244914\n",
       "Corruption           0.123008\n",
       "Dystopia             1.854910\n",
       "Job Satisfaction    75.209934\n",
       "dtype: float64"
      ]
     },
     "execution_count": 50,
     "metadata": {},
     "output_type": "execute_result"
    }
   ],
   "source": [
    "# 8 Obtain the mean minimum and maximum value for each column containing numerical data.\n",
    "mean = data.loc[:,'Happiness Rank':'Job Satisfaction'].apply(np.mean, axis = 0); mean"
   ]
  },
  {
   "cell_type": "code",
   "execution_count": 51,
   "metadata": {},
   "outputs": [
    {
     "data": {
      "text/plain": [
       "Happiness Rank      155.000000\n",
       "Happiness Score       7.537000\n",
       "Economy               1.870766\n",
       "Family                1.610574\n",
       "Health                0.949492\n",
       "Freedom               0.658249\n",
       "Generosity            0.838075\n",
       "Corruption            0.464308\n",
       "Dystopia              3.117485\n",
       "Job Satisfaction     95.100000\n",
       "dtype: float64"
      ]
     },
     "execution_count": 51,
     "metadata": {},
     "output_type": "execute_result"
    }
   ],
   "source": [
    "maximum = data.loc[:,'Happiness Rank':'Job Satisfaction'].apply(np.max, axis = 0); maximum"
   ]
  },
  {
   "cell_type": "code",
   "execution_count": 52,
   "metadata": {},
   "outputs": [
    {
     "data": {
      "text/plain": [
       "Happiness Rank       1.000000\n",
       "Happiness Score      2.693000\n",
       "Economy              0.000000\n",
       "Family               0.000000\n",
       "Health               0.000000\n",
       "Freedom              0.000000\n",
       "Generosity           0.000000\n",
       "Corruption           0.000000\n",
       "Dystopia             0.377914\n",
       "Job Satisfaction    44.400000\n",
       "dtype: float64"
      ]
     },
     "execution_count": 52,
     "metadata": {},
     "output_type": "execute_result"
    }
   ],
   "source": [
    "minimum = data.loc[:,'Happiness Rank':'Job Satisfaction'].apply(np.min, axis = 0); minimum"
   ]
  },
  {
   "cell_type": "code",
   "execution_count": 53,
   "metadata": {
    "scrolled": true
   },
   "outputs": [],
   "source": [
    "# 9 List the 10 happiest countries.\n",
    "data.set_index('Country', inplace = True)"
   ]
  },
  {
   "cell_type": "code",
   "execution_count": 54,
   "metadata": {},
   "outputs": [
    {
     "data": {
      "text/plain": [
       "Country\n",
       "Norway          1\n",
       "Denmark         2\n",
       "Iceland         3\n",
       "Switzerland     4\n",
       "Finland         5\n",
       "Netherlands     6\n",
       "Canada          7\n",
       "New Zealand     8\n",
       "Sweden          9\n",
       "Australia      10\n",
       "Name: Happiness Rank, dtype: int64"
      ]
     },
     "execution_count": 54,
     "metadata": {},
     "output_type": "execute_result"
    }
   ],
   "source": [
    "data.loc[data['Happiness Rank'] <= 10 ,'Happiness Rank']"
   ]
  },
  {
   "cell_type": "code",
   "execution_count": 55,
   "metadata": {},
   "outputs": [
    {
     "data": {
      "text/plain": [
       "Country\n",
       "Haiti                       145\n",
       "Yemen                       146\n",
       "Liberia                     148\n",
       "Guinea                      149\n",
       "Togo                        150\n",
       "Rwanda                      151\n",
       "Syria                       152\n",
       "Tanzania                    153\n",
       "Burundi                     154\n",
       "Central African Republic    155\n",
       "Name: Happiness Rank, dtype: int64"
      ]
     },
     "execution_count": 55,
     "metadata": {},
     "output_type": "execute_result"
    }
   ],
   "source": [
    "# 10 List the 10 least happy countries.\n",
    "data.loc[data['Happiness Rank'] >= maximum.loc['Happiness Rank'] - 10  ,'Happiness Rank']"
   ]
  },
  {
   "cell_type": "markdown",
   "metadata": {},
   "source": [
    "# Partie B Indexing and grouping"
   ]
  },
  {
   "cell_type": "code",
   "execution_count": 56,
   "metadata": {
    "scrolled": true
   },
   "outputs": [],
   "source": [
    "# 1 Use the column 'Region' to create a separate DataFrame containing the data points from each of the six regions: \n",
    "#   North America, Latin America, Western Europe, Eastern Europe, Asia Pacific, Africa.\n",
    "\n",
    "# First we get all different unique index of the column Region\n",
    "Region = data.Region.unique()\n",
    "\n",
    "# Store a dataFram corresponding to each region as element of a list\n",
    "dataRegion = list()\n",
    "for i in list(range(len(Region))):\n",
    "    dataRegion.append(data.loc[data.Region == Region[i], :]) "
   ]
  },
  {
   "cell_type": "code",
   "execution_count": 57,
   "metadata": {
    "scrolled": true
   },
   "outputs": [
    {
     "data": {
      "text/html": [
       "<div>\n",
       "<style>\n",
       "    .dataframe thead tr:only-child th {\n",
       "        text-align: right;\n",
       "    }\n",
       "\n",
       "    .dataframe thead th {\n",
       "        text-align: left;\n",
       "    }\n",
       "\n",
       "    .dataframe tbody tr th {\n",
       "        vertical-align: top;\n",
       "    }\n",
       "</style>\n",
       "<table border=\"1\" class=\"dataframe\">\n",
       "  <thead>\n",
       "    <tr style=\"text-align: right;\">\n",
       "      <th></th>\n",
       "      <th>Mean Happiness Score</th>\n",
       "    </tr>\n",
       "    <tr>\n",
       "      <th>Region</th>\n",
       "      <th></th>\n",
       "    </tr>\n",
       "  </thead>\n",
       "  <tbody>\n",
       "    <tr>\n",
       "      <th>North America</th>\n",
       "      <td>7.154500</td>\n",
       "    </tr>\n",
       "    <tr>\n",
       "      <th>Western Europe</th>\n",
       "      <td>6.880474</td>\n",
       "    </tr>\n",
       "    <tr>\n",
       "      <th>Latin America</th>\n",
       "      <td>5.957818</td>\n",
       "    </tr>\n",
       "    <tr>\n",
       "      <th>Eastern Europe</th>\n",
       "      <td>5.498952</td>\n",
       "    </tr>\n",
       "    <tr>\n",
       "      <th>Asia-Pacific</th>\n",
       "      <td>5.358326</td>\n",
       "    </tr>\n",
       "    <tr>\n",
       "      <th>Africa</th>\n",
       "      <td>4.254581</td>\n",
       "    </tr>\n",
       "    <tr>\n",
       "      <th>Europe</th>\n",
       "      <td>4.096000</td>\n",
       "    </tr>\n",
       "  </tbody>\n",
       "</table>\n",
       "</div>"
      ],
      "text/plain": [
       "                Mean Happiness Score\n",
       "Region                              \n",
       "North America               7.154500\n",
       "Western Europe              6.880474\n",
       "Latin America               5.957818\n",
       "Eastern Europe              5.498952\n",
       "Asia-Pacific                5.358326\n",
       "Africa                      4.254581\n",
       "Europe                      4.096000"
      ]
     },
     "execution_count": 57,
     "metadata": {},
     "output_type": "execute_result"
    }
   ],
   "source": [
    "# 2 Compute the mean happiness score for each region and rank the regions from most happy to least happy. \n",
    "\n",
    "regionMeanHappinessScore = list()\n",
    "for i in list(range(len(Region))):\n",
    "    regionMeanHappinessScore.append(getattr(dataRegion[i], 'Happiness Score').mean(axis=0))\n",
    "\n",
    "dfRegionMeanHappinessScore = pd.DataFrame( {'Region' : Region,\n",
    "                    'Mean Happiness Score' : regionMeanHappinessScore})\n",
    "dfRegionMeanHappinessScore.set_index('Region', inplace = True) \n",
    "dfRegionMeanHappinessScore.sort_values('Mean Happiness Score', ascending=False)"
   ]
  },
  {
   "cell_type": "code",
   "execution_count": 58,
   "metadata": {},
   "outputs": [],
   "source": [
    "# 3 Compute the number of countries in each region that have a happiness score above 6.0.\n",
    "numberHappinessScoreRegion = list()\n",
    "\n",
    "for i in list(range(len(Region))):\n",
    "    numberHappinessScoreRegion.append(len(getattr(dataRegion[i][getattr(dataRegion[i], 'Happiness Score') > 6],'Happiness Score')))"
   ]
  },
  {
   "cell_type": "code",
   "execution_count": 59,
   "metadata": {},
   "outputs": [
    {
     "data": {
      "text/html": [
       "<div>\n",
       "<style>\n",
       "    .dataframe thead tr:only-child th {\n",
       "        text-align: right;\n",
       "    }\n",
       "\n",
       "    .dataframe thead th {\n",
       "        text-align: left;\n",
       "    }\n",
       "\n",
       "    .dataframe tbody tr th {\n",
       "        vertical-align: top;\n",
       "    }\n",
       "</style>\n",
       "<table border=\"1\" class=\"dataframe\">\n",
       "  <thead>\n",
       "    <tr style=\"text-align: right;\">\n",
       "      <th></th>\n",
       "      <th>nb MHS &gt; 6</th>\n",
       "    </tr>\n",
       "    <tr>\n",
       "      <th>Region</th>\n",
       "      <th></th>\n",
       "    </tr>\n",
       "  </thead>\n",
       "  <tbody>\n",
       "    <tr>\n",
       "      <th>Western Europe</th>\n",
       "      <td>17</td>\n",
       "    </tr>\n",
       "    <tr>\n",
       "      <th>North America</th>\n",
       "      <td>2</td>\n",
       "    </tr>\n",
       "    <tr>\n",
       "      <th>Asia-Pacific</th>\n",
       "      <td>11</td>\n",
       "    </tr>\n",
       "    <tr>\n",
       "      <th>Latin America</th>\n",
       "      <td>13</td>\n",
       "    </tr>\n",
       "    <tr>\n",
       "      <th>Eastern Europe</th>\n",
       "      <td>1</td>\n",
       "    </tr>\n",
       "    <tr>\n",
       "      <th>Africa</th>\n",
       "      <td>0</td>\n",
       "    </tr>\n",
       "    <tr>\n",
       "      <th>Europe</th>\n",
       "      <td>0</td>\n",
       "    </tr>\n",
       "  </tbody>\n",
       "</table>\n",
       "</div>"
      ],
      "text/plain": [
       "                nb MHS > 6\n",
       "Region                    \n",
       "Western Europe          17\n",
       "North America            2\n",
       "Asia-Pacific            11\n",
       "Latin America           13\n",
       "Eastern Europe           1\n",
       "Africa                   0\n",
       "Europe                   0"
      ]
     },
     "execution_count": 59,
     "metadata": {},
     "output_type": "execute_result"
    }
   ],
   "source": [
    "dfNumberHappinessScoreRegion = pd.DataFrame( {'Region' : Region,\n",
    "                    'nb MHS > 6' : numberHappinessScoreRegion})\n",
    "dfNumberHappinessScoreRegion.set_index('Region', inplace = True)\n",
    "dfNumberHappinessScoreRegion"
   ]
  },
  {
   "cell_type": "code",
   "execution_count": 60,
   "metadata": {
    "scrolled": true
   },
   "outputs": [
    {
     "data": {
      "text/html": [
       "<div>\n",
       "<style>\n",
       "    .dataframe thead tr:only-child th {\n",
       "        text-align: right;\n",
       "    }\n",
       "\n",
       "    .dataframe thead th {\n",
       "        text-align: left;\n",
       "    }\n",
       "\n",
       "    .dataframe tbody tr th {\n",
       "        vertical-align: top;\n",
       "    }\n",
       "</style>\n",
       "<table border=\"1\" class=\"dataframe\">\n",
       "  <thead>\n",
       "    <tr style=\"text-align: right;\">\n",
       "      <th></th>\n",
       "      <th>Max - Min</th>\n",
       "    </tr>\n",
       "    <tr>\n",
       "      <th>Region</th>\n",
       "      <th></th>\n",
       "    </tr>\n",
       "  </thead>\n",
       "  <tbody>\n",
       "    <tr>\n",
       "      <th>Western Europe</th>\n",
       "      <td>2.342</td>\n",
       "    </tr>\n",
       "    <tr>\n",
       "      <th>North America</th>\n",
       "      <td>0.323</td>\n",
       "    </tr>\n",
       "    <tr>\n",
       "      <th>Asia-Pacific</th>\n",
       "      <td>3.852</td>\n",
       "    </tr>\n",
       "    <tr>\n",
       "      <th>Latin America</th>\n",
       "      <td>3.476</td>\n",
       "    </tr>\n",
       "    <tr>\n",
       "      <th>Eastern Europe</th>\n",
       "      <td>1.454</td>\n",
       "    </tr>\n",
       "    <tr>\n",
       "      <th>Africa</th>\n",
       "      <td>3.179</td>\n",
       "    </tr>\n",
       "    <tr>\n",
       "      <th>Europe</th>\n",
       "      <td>0.000</td>\n",
       "    </tr>\n",
       "  </tbody>\n",
       "</table>\n",
       "</div>"
      ],
      "text/plain": [
       "                Max - Min\n",
       "Region                   \n",
       "Western Europe      2.342\n",
       "North America       0.323\n",
       "Asia-Pacific        3.852\n",
       "Latin America       3.476\n",
       "Eastern Europe      1.454\n",
       "Africa              3.179\n",
       "Europe              0.000"
      ]
     },
     "execution_count": 60,
     "metadata": {},
     "output_type": "execute_result"
    }
   ],
   "source": [
    "#  4 Compute the difference between the maximum and minimum happiness score for each region. \n",
    "#    Which region has the largest range of happiness scores?\n",
    "\n",
    "rangeHappinessScoreRegion = list()\n",
    "\n",
    "for i in list(range(len(Region))):\n",
    "    rangeHappinessScoreRegion.append(getattr(dataRegion[i], 'Happiness Score').max(axis=0) - getattr(dataRegion[i], 'Happiness Score').min(axis=0))\n",
    "    \n",
    "dfRangeHappinessScoreRegion = pd.DataFrame( {'Region' : Region,\n",
    "                    'Max - Min' : rangeHappinessScoreRegion})\n",
    "dfRangeHappinessScoreRegion.set_index('Region', inplace = True)\n",
    "dfRangeHappinessScoreRegion"
   ]
  },
  {
   "cell_type": "markdown",
   "metadata": {
    "scrolled": true
   },
   "source": [
    "# Partie C Bar plot of the Happiness Score"
   ]
  },
  {
   "cell_type": "code",
   "execution_count": 61,
   "metadata": {},
   "outputs": [
    {
     "data": {
      "image/png": "[encoded data removed]",
      "text/plain": [
       "<matplotlib.figure.Figure at 0x93e49b0>"
      ]
     },
     "metadata": {
      "needs_background": "light"
     },
     "output_type": "display_data"
    }
   ],
   "source": [
    "# 1 Obtain a horizontal bar plot of the Happiness Score of the top 10 countries. \n",
    "#   Your bar chart should have the names of the countries are listed vertically along the y-axis and the x-axis \n",
    "#   should have labels for each number from 0 to 8. Ensure that the chart has an appropriate title and labels.\n",
    "HappyCountryScore = np.array(data.loc[data['Happiness Rank'] <= 10 ,'Happiness Score'])\n",
    "HappyCountry = np.array(data.loc[data['Happiness Rank'] <= 10 ,'Happiness Score'].index)\n",
    "yCor = np.arange(len(HappyCountry))\n",
    "\n",
    "plt.barh(yCor, HappyCountryScore, align = 'center',color = 'green', edgecolor ='black' )\n",
    "plt.yticks(yCor, HappyCountry)\n",
    "plt.title('Top 10 Happiness Score by countries')\n",
    "plt.xlabel('Happiness Score')\n",
    "plt.xlim(0,8)\n",
    "plt.show()\n"
   ]
  },
  {
   "cell_type": "code",
   "execution_count": 62,
   "metadata": {},
   "outputs": [
    {
     "data": {
      "image/png": "[encoded data removed]",
      "text/plain": [
       "<matplotlib.figure.Figure at 0x8f704a8>"
      ]
     },
     "metadata": {
      "needs_background": "light"
     },
     "output_type": "display_data"
    }
   ],
   "source": [
    "# 1 Obtain a horizontal bar plot of the Happiness Score of the top 10 countries. \n",
    "#   Your bar chart should have the names of the countries are listed vertically along the y-axis and the x-axis \n",
    "#   should have labels for each number from 0 to 8. Ensure that the chart has an appropriate title and labels.\n",
    "HappyCountryScore = np.array(data.loc[data['Happiness Rank'] <= 10 ,'Happiness Score'])\n",
    "HappyCountry = np.array(data.loc[data['Happiness Rank'] <= 10 ,'Happiness Score'].index)\n",
    "yCor = np.arange(len(HappyCountry))\n",
    "\n",
    "fig, ax = plt.subplots()\n",
    "ax.set_yticks(yCor)\n",
    "ax.set_yticklabels(HappyCountry)\n",
    "ax.barh(yCor, HappyCountryScore, align = 'center',color = 'green', edgecolor ='black' )\n",
    "ax.set_title('Top 10 Happiness Score by countries')\n",
    "ax.set_xlabel('Happiness Score')\n",
    "ax.set_xlim(0,8)\n",
    "plt.show()\n"
   ]
  },
  {
   "cell_type": "code",
   "execution_count": 63,
   "metadata": {},
   "outputs": [
    {
     "data": {
      "image/png": "[encoded data removed]",
      "text/plain": [
       "<matplotlib.figure.Figure at 0x8ed5390>"
      ]
     },
     "metadata": {
      "needs_background": "light"
     },
     "output_type": "display_data"
    }
   ],
   "source": [
    "# 2 You will now modify the bar chart you obtained in step 1 to turn into a stacked bar chart where the overall happiness score is \n",
    "#   divided into the seven parts corresponding to the columns:\n",
    "#    -Economy\n",
    "#    -Family\n",
    "#    -Health\n",
    "#    -Freedom\n",
    "#    -Generosity\n",
    "#    -Corruption\n",
    "#    -Dystopia Choose a distinct color for each category and include an appropriate legend with your chart.\n",
    "\n",
    "# Creating the array for each parts\n",
    "HappyCountryEconomy = np.array(data.loc[data['Happiness Rank'] <= 10 ,'Economy'])\n",
    "HappyCountryFamily = np.array(data.loc[data['Happiness Rank'] <= 10 ,'Family'])\n",
    "HappyCountryHealth = np.array(data.loc[data['Happiness Rank'] <= 10 ,'Health'])\n",
    "HappyCountryFreedom = np.array(data.loc[data['Happiness Rank'] <= 10 ,'Freedom'])\n",
    "HappyCountryGenerosity = np.array(data.loc[data['Happiness Rank'] <= 10 ,'Generosity'])\n",
    "HappyCountryCorruption = np.array(data.loc[data['Happiness Rank'] <= 10 ,'Corruption'])\n",
    "HappyCountryDystopia = np.array(data.loc[data['Happiness Rank'] <= 10 ,'Dystopia'])\n",
    "\n",
    "plt.barh(yCor, HappyCountryEconomy, align = 'center',color = 'yellow', edgecolor ='black',\n",
    "        label = 'Economy')\n",
    "\n",
    "plt.barh(yCor, HappyCountryFamily, align = 'center',color = 'red', edgecolor ='black', \n",
    "        left = HappyCountryEconomy,\n",
    "        label = 'Family')\n",
    "\n",
    "plt.barh(yCor, HappyCountryHealth, align = 'center',color = 'blue', edgecolor ='black',\n",
    "        left = HappyCountryEconomy + HappyCountryFamily,\n",
    "        label = 'Health')\n",
    "\n",
    "plt.barh(yCor, HappyCountryFreedom, align = 'center',color = 'brown', edgecolor ='black',\n",
    "        left = HappyCountryEconomy + HappyCountryFamily + HappyCountryHealth,\n",
    "        label = 'Freedom')\n",
    "\n",
    "plt.barh(yCor, HappyCountryGenerosity, align = 'center',color = 'purple', edgecolor ='black',\n",
    "        left = HappyCountryEconomy + HappyCountryFamily + HappyCountryHealth + HappyCountryFreedom,\n",
    "        label = 'Generosity')\n",
    "\n",
    "plt.barh(yCor, HappyCountryCorruption, align = 'center',color = 'black', edgecolor ='black',\n",
    "        left = HappyCountryEconomy + HappyCountryFamily + HappyCountryHealth + HappyCountryFreedom + HappyCountryGenerosity,\n",
    "        label = 'Corruption')\n",
    "\n",
    "plt.barh(yCor, HappyCountryDystopia, align = 'center',color = 'green', edgecolor ='black',\n",
    "        left = HappyCountryEconomy + HappyCountryFamily + HappyCountryHealth + HappyCountryFreedom + HappyCountryGenerosity + HappyCountryCorruption,\n",
    "        label = 'Dystopia')\n",
    "\n",
    "plt.legend(loc=\"upper left\")\n",
    "plt.yticks(yCor, HappyCountry)\n",
    "plt.title('Top 10 stacked bar chart by countries for happiness Score')\n",
    "plt.xlabel('Score')\n",
    "plt.xlim(0,8)\n",
    "plt.show()"
   ]
  },
  {
   "cell_type": "code",
   "execution_count": 64,
   "metadata": {},
   "outputs": [
    {
     "data": {
      "image/png": "[encoded data removed]",
      "text/plain": [
       "<matplotlib.figure.Figure at 0x4ec0a90>"
      ]
     },
     "metadata": {
      "needs_background": "light"
     },
     "output_type": "display_data"
    }
   ],
   "source": [
    "# 3 Obtain the same stacked horizontal bar chart as in step 2 but this time instead of the top 10 countries consider \n",
    "# all countries from the region Africa.\n",
    "\n",
    "# Creating the array for each parts\n",
    "AfricaCountryEconomy = np.array(data.loc[data['Region'] == 'Africa', 'Economy'])\n",
    "AfricaCountryFamily = np.array(data.loc[data['Region'] == 'Africa', 'Family'])\n",
    "AfricaCountryHealth = np.array(data.loc[data['Region'] == 'Africa', 'Health'])\n",
    "AfricaCountryFreedom = np.array(data.loc[data['Region'] == 'Africa', 'Freedom'])\n",
    "AfricaCountryGenerosity = np.array(data.loc[data['Region'] == 'Africa', 'Generosity'])\n",
    "AfricaCountryCorruption = np.array(data.loc[data['Region'] == 'Africa', 'Corruption'])\n",
    "AfricaCountryDystopia = np.array(data.loc[data['Region'] == 'Africa', 'Dystopia'])\n",
    "\n",
    "AfricaCountry = np.array(data.loc[data['Region'] == 'Africa'].index)\n",
    "AfyCor = np.arange(len(AfricaCountry))\n",
    "\n",
    "fig, ax = plt.subplots()\n",
    "\n",
    "fig.set_figheight(10)\n",
    "\n",
    "ax.barh(AfyCor, AfricaCountryEconomy, align = 'center',color = 'yellow', edgecolor ='black',\n",
    "        label = 'Economy')\n",
    "\n",
    "ax.barh(AfyCor, AfricaCountryFamily, align = 'center',color = 'red', edgecolor ='black', \n",
    "        left = AfricaCountryEconomy,\n",
    "        label = 'Family')\n",
    "\n",
    "ax.barh(AfyCor, AfricaCountryHealth, align = 'center',color = 'blue', edgecolor ='black',\n",
    "        left = AfricaCountryEconomy + AfricaCountryFamily,\n",
    "        label = 'Health')\n",
    "\n",
    "ax.barh(AfyCor, AfricaCountryFreedom, align = 'center',color = 'brown', edgecolor ='black',\n",
    "        left = AfricaCountryEconomy + AfricaCountryFamily + AfricaCountryHealth,\n",
    "        label = 'Freedom')\n",
    "\n",
    "ax.barh(AfyCor, AfricaCountryGenerosity, align = 'center',color = 'purple', edgecolor ='black',\n",
    "        left = AfricaCountryEconomy + AfricaCountryFamily + AfricaCountryHealth + AfricaCountryFreedom,\n",
    "        label = 'Generosity')\n",
    "\n",
    "ax.barh(AfyCor, AfricaCountryCorruption, align = 'center',color = 'black', edgecolor ='black',\n",
    "        left = AfricaCountryEconomy + AfricaCountryFamily + AfricaCountryHealth + AfricaCountryFreedom + AfricaCountryGenerosity,\n",
    "        label = 'Corruption')\n",
    "\n",
    "ax.barh(AfyCor, AfricaCountryDystopia, align = 'center',color = 'green', edgecolor ='black',\n",
    "        left = AfricaCountryEconomy + AfricaCountryFamily + AfricaCountryHealth + AfricaCountryFreedom + AfricaCountryGenerosity + AfricaCountryCorruption,\n",
    "        label = 'Dystopia')\n",
    "\n",
    "ax.legend(loc=\"upper right\")\n",
    "ax.set_yticks(AfyCor)\n",
    "ax.set_yticklabels(AfricaCountry)\n",
    "ax.set_title('Stacked bar chart by countries in Africa for happiness score')\n",
    "ax.set_xlabel('Score')\n",
    "ax.set_xlim(0,8)\n",
    "plt.show()\n",
    "\n",
    "\n",
    "\n"
   ]
  },
  {
   "cell_type": "markdown",
   "metadata": {},
   "source": [
    "# Partie D Histogram of Job Satisfaction"
   ]
  },
  {
   "cell_type": "code",
   "execution_count": 65,
   "metadata": {
    "scrolled": true
   },
   "outputs": [
    {
     "data": {
      "image/png": "[encoded data removed]",
      "text/plain": [
       "<matplotlib.figure.Figure at 0x8d6ba90>"
      ]
     },
     "metadata": {
      "needs_background": "light"
     },
     "output_type": "display_data"
    }
   ],
   "source": [
    "# 1 Obtain a histogram of the Job Satisfaction using the following categories:\n",
    "# 40%-50%\n",
    "# 50%-60%\n",
    "# 60%-70%\n",
    "# 70%-80%\n",
    "# 80%-90%\n",
    "# 90%-100%\n",
    "\n",
    "JobSatisfaction = data['Job Satisfaction']\n",
    "plt.hist(JobSatisfaction, bins=[40, 50, 60, 70, 80, 90, 100], color = '#1C1C1C', edgecolor ='white')\n",
    "plt.title('Histogram Job Satisfaction')\n",
    "plt.show()"
   ]
  },
  {
   "cell_type": "markdown",
   "metadata": {},
   "source": [
    "# Partie E Pairwise Scatter plots"
   ]
  },
  {
   "cell_type": "code",
   "execution_count": 108,
   "metadata": {
    "scrolled": true
   },
   "outputs": [
    {
     "data": {
      "image/png": "[encoded data removed]",
      "text/plain": [
       "<matplotlib.figure.Figure at 0xeb04240>"
      ]
     },
     "metadata": {
      "needs_background": "light"
     },
     "output_type": "display_data"
    }
   ],
   "source": [
    "# 1 Obtain scatter plots of the Happiness Score versus each of the other variables. Your plots should be displayed as multiple \n",
    "# plots table and obtained with one command as supposed to separate commands for each plot.\n",
    "xAxis = data['Happiness Score']\n",
    "fig, ax = plt.subplots(nrows=2, ncols=4)\n",
    "fig.set_figheight(10)\n",
    "fig.set_figwidth(20)\n",
    "\n",
    "ax[0,0].scatter(xAxis, data['Economy'])\n",
    "ax[0,0].set_xlabel('Happiness Score')\n",
    "ax[0,0].set_ylabel('Economy Score')\n",
    "\n",
    "ax[0,1].scatter(xAxis, data['Family'])\n",
    "ax[0,1].set_xlabel('Happiness Score')\n",
    "ax[0,1].set_ylabel('Family Score')\n",
    "\n",
    "ax[0,2].scatter(xAxis, data['Health'])\n",
    "ax[0,2].set_xlabel('Happiness Score')\n",
    "ax[0,2].set_ylabel('Health Score')\n",
    "\n",
    "ax[0,3].scatter(xAxis, data['Freedom'])\n",
    "ax[0,3].set_xlabel('Happiness Score')\n",
    "ax[0,3].set_ylabel('Freedom Score')\n",
    "\n",
    "ax[1,0].scatter(xAxis, data['Generosity'])\n",
    "ax[1,0].set_xlabel('Happiness Score')\n",
    "ax[1,0].set_ylabel('Generosity Score')\n",
    "\n",
    "ax[1,1].scatter(xAxis, data['Corruption'])\n",
    "ax[1,1].set_xlabel('Happiness Score')\n",
    "ax[1,1].set_ylabel('Corruption Score')\n",
    "\n",
    "ax[1,2].scatter(xAxis, data['Dystopia'])\n",
    "ax[1,2].set_xlabel('Happiness Score')\n",
    "ax[1,2].set_ylabel('Dystopia Score')\n",
    "\n",
    "ax[1,3].scatter(xAxis, data['Job Satisfaction'])\n",
    "ax[1,3].set_xlabel('Happiness Score')\n",
    "ax[1,3].set_ylabel('Job Satisfaction Score')\n",
    "\n",
    "plt.show()"
   ]
  },
  {
   "cell_type": "markdown",
   "metadata": {},
   "source": [
    "# Partie F Correlation"
   ]
  },
  {
   "cell_type": "code",
   "execution_count": 177,
   "metadata": {},
   "outputs": [
    {
     "data": {
      "text/html": [
       "<div>\n",
       "<style>\n",
       "    .dataframe thead tr:only-child th {\n",
       "        text-align: right;\n",
       "    }\n",
       "\n",
       "    .dataframe thead th {\n",
       "        text-align: left;\n",
       "    }\n",
       "\n",
       "    .dataframe tbody tr th {\n",
       "        vertical-align: top;\n",
       "    }\n",
       "</style>\n",
       "<table border=\"1\" class=\"dataframe\">\n",
       "  <thead>\n",
       "    <tr style=\"text-align: right;\">\n",
       "      <th></th>\n",
       "      <th>Correlation to Happiness Score</th>\n",
       "    </tr>\n",
       "    <tr>\n",
       "      <th>Variables</th>\n",
       "      <th></th>\n",
       "    </tr>\n",
       "  </thead>\n",
       "  <tbody>\n",
       "    <tr>\n",
       "      <th>Economy</th>\n",
       "      <td>0.808678</td>\n",
       "    </tr>\n",
       "    <tr>\n",
       "      <th>Family</th>\n",
       "      <td>0.749612</td>\n",
       "    </tr>\n",
       "    <tr>\n",
       "      <th>Health</th>\n",
       "      <td>0.777731</td>\n",
       "    </tr>\n",
       "    <tr>\n",
       "      <th>Freedom</th>\n",
       "      <td>0.567948</td>\n",
       "    </tr>\n",
       "    <tr>\n",
       "      <th>Generosity</th>\n",
       "      <td>0.164123</td>\n",
       "    </tr>\n",
       "    <tr>\n",
       "      <th>Corruption</th>\n",
       "      <td>0.438262</td>\n",
       "    </tr>\n",
       "    <tr>\n",
       "      <th>Dystopia</th>\n",
       "      <td>0.481117</td>\n",
       "    </tr>\n",
       "    <tr>\n",
       "      <th>Job Satisfaction</th>\n",
       "      <td>0.812873</td>\n",
       "    </tr>\n",
       "  </tbody>\n",
       "</table>\n",
       "</div>"
      ],
      "text/plain": [
       "                  Correlation to Happiness Score\n",
       "Variables                                       \n",
       "Economy                                 0.808678\n",
       "Family                                  0.749612\n",
       "Health                                  0.777731\n",
       "Freedom                                 0.567948\n",
       "Generosity                              0.164123\n",
       "Corruption                              0.438262\n",
       "Dystopia                                0.481117\n",
       "Job Satisfaction                        0.812873"
      ]
     },
     "execution_count": 177,
     "metadata": {},
     "output_type": "execute_result"
    }
   ],
   "source": [
    "# 1 Obtain the correlation between the Happiness Score and each of the other variables. \n",
    "# Which variable has the highest correlation with the Happiness Score?\n",
    "columns = list(data.columns[2:10])\n",
    "Correlation = list()\n",
    "\n",
    "for index in range(len(list2)):\n",
    "    Correlation.append(np.corrcoef(xAxis, data[columns[index]])[0, 1])\n",
    "    \n",
    "dfCorrelation = pd.DataFrame( {'Variables' : columns, 'Correlation to Happiness Score' : Correlation});\n",
    "dfCorrelation.set_index('Variables')"
   ]
  },
  {
   "cell_type": "markdown",
   "metadata": {},
   "source": [
    "# Partie G Probabilities"
   ]
  },
  {
   "cell_type": "code",
   "execution_count": 191,
   "metadata": {},
   "outputs": [
    {
     "data": {
      "text/plain": [
       "0.38636363636363635"
      ]
     },
     "execution_count": 191,
     "metadata": {},
     "output_type": "execute_result"
    }
   ],
   "source": [
    "# 1 Compute the probability that randomly selected country with Happiness score over 6.0 is from Western Europe. \n",
    "# You will have to use pandas to count the appropriate quantities.\n",
    "\n",
    "data['Happiness Score']\n",
    "\n",
    "event = len(data.loc[(data['Happiness Score'] > 6) & (data['Region'] == 'Western Europe'), 'Region'])\n",
    "outcomeSpace = len(data.loc[data['Happiness Score'] > 6, 'Region'])\n",
    "\n",
    "Probability = event / outcomeSpace;  Probability"
   ]
  },
  {
   "cell_type": "markdown",
   "metadata": {},
   "source": [
    "# Partie H Matrices"
   ]
  },
  {
   "cell_type": "code",
   "execution_count": 302,
   "metadata": {},
   "outputs": [
    {
     "data": {
      "text/plain": [
       "array([0, 0, 1, 0, 0, 0, 0])"
      ]
     },
     "execution_count": 302,
     "metadata": {},
     "output_type": "execute_result"
    }
   ],
   "source": [
    "# 1 Define a matrix whose rows correspond to countries and the columns to the regions. Fill in the matrix with 0/1 \n",
    "#   values where entry (i,j) is a 1 if the country in row i is in the region in column j and a 0 otherwise. \n",
    "\n",
    "listCountry  = data.index\n",
    "listRegion = data['Region'].unique()\n",
    "intMatrice = list()\n",
    "\n",
    "for j in range(len(listRegion)):\n",
    "    for i in range(len(listCountry)):\n",
    "        if data['Region'][i] == listRegion[j]:\n",
    "            intMatrice.append(1)\n",
    "        else:\n",
    "            intMatrice.append(0)\n",
    "matrix = np.array(intMatrice).reshape(len(listRegion), len(listCountry)).T\n",
    "\n",
    "# TEST with Country = 'Syria', Region = 'Asia-Pacific'\n",
    "matrix[147,:]\n",
    "## array([0, 0, 1, 0, 0, 0, 0])"
   ]
  }
 ],
 "metadata": {
  "kernelspec": {
   "display_name": "Python 3",
   "language": "python",
   "name": "python3"
  },
  "language_info": {
   "codemirror_mode": {
    "name": "ipython",
    "version": 3
   },
   "file_extension": ".py",
   "mimetype": "text/x-python",
   "name": "python",
   "nbconvert_exporter": "python",
   "pygments_lexer": "ipython3",
   "version": "3.6.2"
  }
 },
 "nbformat": 4,
 "nbformat_minor": 2
}
